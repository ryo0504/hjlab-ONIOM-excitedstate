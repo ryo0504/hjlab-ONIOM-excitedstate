{
 "cells": [
  {
   "cell_type": "code",
   "execution_count": 1,
   "id": "e0e64929-fd94-4ab1-9092-1c2969afdb0f",
   "metadata": {},
   "outputs": [],
   "source": [
    "import codecs\n",
    "import glob\n",
    "import math\n",
    "import os\n",
    "from decimal import Decimal\n",
    "import pandas as pd\n",
    "import matplotlib.pyplot as plt\n",
    "from matplotlib import cm"
   ]
  },
  {
   "cell_type": "code",
   "execution_count": 5,
   "id": "59988635-ec02-49e2-a3ba-47df47ea12c9",
   "metadata": {},
   "outputs": [],
   "source": [
    "# 注意　データの書き換えコードなのでinputファイルに直接変更を施す\n",
    "\n",
    "data_dir = \"data/input/励起状態/test/*.gjf\"\n",
    "paths = [p for p in glob.glob(data_dir)]\n",
    "\n",
    "# 置換したい文字列を指定\n",
    "keywards = \"#N ONIOM(B3LYP/6-311G** TD=(Root=2):HF/6-31G)\"\n",
    "new_keywards = \"#N ONIOM(B3LYP/6-311G** TD=(Root=1):HF/6-31G)\""
   ]
  },
  {
   "cell_type": "code",
   "execution_count": 6,
   "id": "f69b480c-9dde-4b6d-8957-071c5cb6cfa5",
   "metadata": {},
   "outputs": [],
   "source": [
    "for path in paths:\n",
    "    # file_nameから角度の情報を取る\n",
    "    file_name = paths\n",
    "    \n",
    "    with open(path,\"r\") as f:\n",
    "        data=f.read()\n",
    "        # 文字列置換\n",
    "        data = data.replace(keywards, new_keywards)\n",
    "\n",
    "        # 同じファイル名で保存\n",
    "    with open(path, mode=\"w\", encoding=\"cp932\") as f:\n",
    "        f.write(data)"
   ]
  },
  {
   "cell_type": "code",
   "execution_count": 37,
   "id": "25ed43f6-39ea-4440-89eb-0e9ea5aea33f",
   "metadata": {},
   "outputs": [
    {
     "data": {
      "text/plain": [
       "['data/input/励起状態/alpha1/1A/NH/fc/SAa1_1A_NH_TDDFT_-120@2.gjf',\n",
       " 'data/input/励起状態/alpha1/1A/NH/fc/SAa1_1A_NH_TDDFT_-135@2.gjf',\n",
       " 'data/input/励起状態/alpha1/1A/NH/fc/SAa1_1A_NH_TDDFT_-150@2.gjf',\n",
       " 'data/input/励起状態/alpha1/1A/NH/fc/SAa1_1A_NH_TDDFT_-15@2.gjf',\n",
       " 'data/input/励起状態/alpha1/1A/NH/fc/SAa1_1A_NH_TDDFT_-165@2.gjf',\n",
       " 'data/input/励起状態/alpha1/1A/NH/fc/SAa1_1A_NH_TDDFT_-30@2.gjf',\n",
       " 'data/input/励起状態/alpha1/1A/NH/fc/SAa1_1A_NH_TDDFT_-45@2.gjf',\n",
       " 'data/input/励起状態/alpha1/1A/NH/fc/SAa1_1A_NH_TDDFT_-60@2.gjf',\n",
       " 'data/input/励起状態/alpha1/1A/NH/fc/SAa1_1A_NH_TDDFT_0@2.gjf',\n",
       " 'data/input/励起状態/alpha1/1A/NH/fc/SAa1_1A_NH_TDDFT_120@2.gjf',\n",
       " 'data/input/励起状態/alpha1/1A/NH/fc/SAa1_1A_NH_TDDFT_135@2.gjf',\n",
       " 'data/input/励起状態/alpha1/1A/NH/fc/SAa1_1A_NH_TDDFT_150@2.gjf',\n",
       " 'data/input/励起状態/alpha1/1A/NH/fc/SAa1_1A_NH_TDDFT_15@2.gjf',\n",
       " 'data/input/励起状態/alpha1/1A/NH/fc/SAa1_1A_NH_TDDFT_165@2.gjf',\n",
       " 'data/input/励起状態/alpha1/1A/NH/fc/SAa1_1A_NH_TDDFT_180@2.gjf',\n",
       " 'data/input/励起状態/alpha1/1A/NH/fc/SAa1_1A_NH_TDDFT_30@2.gjf',\n",
       " 'data/input/励起状態/alpha1/1A/NH/fc/SAa1_1A_NH_TDDFT_45@2.gjf',\n",
       " 'data/input/励起状態/alpha1/1A/NH/fc/SAa1_1A_NH_TDDFT_60@2.gjf']"
      ]
     },
     "execution_count": 37,
     "metadata": {},
     "output_type": "execute_result"
    }
   ],
   "source": []
  },
  {
   "cell_type": "code",
   "execution_count": null,
   "id": "e5a14215-61b9-4963-9078-99a6702c514d",
   "metadata": {},
   "outputs": [],
   "source": []
  }
 ],
 "metadata": {
  "kernelspec": {
   "display_name": "Python 3",
   "language": "python",
   "name": "python3"
  },
  "language_info": {
   "codemirror_mode": {
    "name": "ipython",
    "version": 3
   },
   "file_extension": ".py",
   "mimetype": "text/x-python",
   "name": "python",
   "nbconvert_exporter": "python",
   "pygments_lexer": "ipython3",
   "version": "3.8.8"
  }
 },
 "nbformat": 4,
 "nbformat_minor": 5
}
