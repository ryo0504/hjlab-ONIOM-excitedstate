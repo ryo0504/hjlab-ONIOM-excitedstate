{
 "cells": [
  {
   "cell_type": "code",
   "execution_count": 1,
   "id": "e0e64929-fd94-4ab1-9092-1c2969afdb0f",
   "metadata": {},
   "outputs": [],
   "source": [
    "import codecs\n",
    "import glob\n",
    "import math\n",
    "import os\n",
    "from decimal import Decimal\n",
    "import pandas as pd\n",
    "import matplotlib.pyplot as plt\n",
    "from matplotlib import cm"
   ]
  },
  {
   "cell_type": "code",
   "execution_count": 2,
   "id": "59988635-ec02-49e2-a3ba-47df47ea12c9",
   "metadata": {},
   "outputs": [],
   "source": [
    "# 注意　データの書き換えコードなのでinputファイルに直接変更を施す\n",
    "\n",
    "data_dir = \"data/input/S2修正/alpha1/opt1/2nd/*.gjf\"\n",
    "paths = [p for p in glob.glob(data_dir)]\n",
    "\n",
    "# 置換したい文字列を指定\n",
    "# keywards = \"#N ONIOM(B3LYP/6-311G** TD=(Root=2):HF/STO-3G) Opt=ModRedundant\"\n",
    "keywards = \"#N HF/3-21G Opt=Z-matrix Freq=(HPMode,Raman)\"\n",
    "new_keywards = \"#N ONIOM(HF/6-31G TD=(Root=2):HF/STO-3G) Opt=(ModRedundant,loose)\"\n",
    "# new_keywards = \"#N ONIOM(HF/6-31G TD=(Root=2):HF/STO-3G) Opt=(ModRedundant,loose)\"\n",
    "# new_keywards = \"#N ONIOM(B3LYP/6-311G** TD=(Root=2):HF/STO-3G) Opt=ModRedundant\""
   ]
  },
  {
   "cell_type": "code",
   "execution_count": 3,
   "id": "f69b480c-9dde-4b6d-8957-071c5cb6cfa5",
   "metadata": {},
   "outputs": [],
   "source": [
    "for path in paths:\n",
    "    # file_nameから角度の情報を取る\n",
    "    file_name = paths\n",
    "    \n",
    "    with open(path,\"r\") as f:\n",
    "        data=f.read()\n",
    "        # 文字列置換\n",
    "        data = data.replace(keywards, new_keywards)\n",
    "\n",
    "        # 同じファイル名で保存\n",
    "    with open(path, mode=\"w\", encoding=\"cp932\") as f:\n",
    "        f.write(data)"
   ]
  }
 ],
 "metadata": {
  "kernelspec": {
   "display_name": "Python 3",
   "language": "python",
   "name": "python3"
  },
  "language_info": {
   "codemirror_mode": {
    "name": "ipython",
    "version": 3
   },
   "file_extension": ".py",
   "mimetype": "text/x-python",
   "name": "python",
   "nbconvert_exporter": "python",
   "pygments_lexer": "ipython3",
   "version": "3.8.8"
  }
 },
 "nbformat": 4,
 "nbformat_minor": 5
}
