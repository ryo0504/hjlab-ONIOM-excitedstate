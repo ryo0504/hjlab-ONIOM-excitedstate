{
 "cells": [
  {
   "cell_type": "code",
   "execution_count": 1,
   "id": "ea6d3cd5-609b-4a4c-8344-127e4c9bb078",
   "metadata": {},
   "outputs": [],
   "source": [
    "import codecs\n",
    "import glob\n",
    "import math\n",
    "import os\n",
    "from decimal import Decimal\n",
    "import pandas as pd\n",
    "import matplotlib.pyplot as plt\n",
    "from matplotlib import cm"
   ]
  },
  {
   "cell_type": "code",
   "execution_count": 2,
   "id": "ce3265ad-e901-4610-981a-d21c6c014a1b",
   "metadata": {},
   "outputs": [],
   "source": [
    "data_dir = \"data/input/励起状態/beta/NH/*.out\"\n",
    "paths = [p for p in glob.glob(data_dir)]"
   ]
  },
  {
   "cell_type": "code",
   "execution_count": 3,
   "id": "6c33f255-e796-403d-bf2a-c32e0b894f32",
   "metadata": {},
   "outputs": [],
   "source": [
    "# とりあえずfを取り出して見る。\n",
    "# key\n",
    "excited_state_1 = \"Excited State   1\"\n",
    "excited_state_2 = \"Excited State   2\"\n",
    "excited_state_3 = \"Excited State   3\"\n",
    "\n",
    "initial_key = \"Excited State   1\"\n",
    "end_key = \"SavETr\"\n",
    "result_dir = \"data/output/result.csv\"\n",
    "df_output = pd.DataFrame()\n",
    "\n",
    "for path in paths:\n",
    "    # file_nameから角度の情報を取る\n",
    "    file_name = path.split('/')[-1]\n",
    "    torsion_angle = int(file_name.split(\"@\")[0].split(\"_\")[-1])\n",
    "\n",
    "    with codecs.open(path, \"r\", \"UTF-8\", \"ignore\") as file:\n",
    "        df = pd.read_table(file)\n",
    "        df = df.rename(columns={df.columns[0]: 'Col_1'})\n",
    "        # initial_keyを含む行を探す\n",
    "        initial_key_df = df[df['Col_1'].str.contains(initial_key, case=False)]\n",
    "        initial_key_index = initial_key_df.index[0]\n",
    "        df = df.iloc[initial_key_index:]\n",
    "        # initial_keyを含む行以降のend_keyを含む行を抜き出す\n",
    "        end_key_df = df[df['Col_1'].str.contains(end_key)]\n",
    "        # dfを更新しているのでここでの行番号は0から始まる\n",
    "        end_key_index = end_key_df.index[0] - initial_key_index\n",
    "        df = df.iloc[:end_key_index]\n",
    "        # 該当行の抜き出しが完了\n",
    "        \n",
    "        f_1 = df[df['Col_1'].str.contains(excited_state_1)]['Col_1'].iloc[0].split(' ')\n",
    "        f_1 = [a for a in f_1 if a != '']\n",
    "        f_1 = float(f_1[-2].split('f=')[-1])\n",
    "        \n",
    "        f_2 = df[df['Col_1'].str.contains(excited_state_2)]['Col_1'].iloc[0].split(' ')\n",
    "        f_2 = [a for a in f_2 if a != '']\n",
    "        f_2 = float(f_2[-2].split('f=')[-1])\n",
    "        \n",
    "        f_3 = df[df['Col_1'].str.contains(excited_state_3)]['Col_1'].iloc[0].split(' ')\n",
    "        f_3 = [a for a in f_3 if a != '']\n",
    "        f_3 = float(f_3[-2].split('f=')[-1])\n",
    "        \n",
    "        df_f = pd.DataFrame(data=[f_1, f_2, f_3], \n",
    "                            columns=[torsion_angle],\n",
    "                            index=[\"f_1\", \"f_2\", \"f_3\"]).T\n",
    "        df_output = pd.concat([df_output, df_f])\n",
    "         "
   ]
  },
  {
   "cell_type": "code",
   "execution_count": 4,
   "id": "a3c1137a-2937-4b10-90cb-1ee829ac5059",
   "metadata": {},
   "outputs": [],
   "source": [
    "df_output = df_output.sort_index()"
   ]
  },
  {
   "cell_type": "code",
   "execution_count": null,
   "id": "acbb2d8a-c586-43d1-88d1-681cc3a90edc",
   "metadata": {},
   "outputs": [],
   "source": []
  }
 ],
 "metadata": {
  "kernelspec": {
   "display_name": "Python 3",
   "language": "python",
   "name": "python3"
  },
  "language_info": {
   "codemirror_mode": {
    "name": "ipython",
    "version": 3
   },
   "file_extension": ".py",
   "mimetype": "text/x-python",
   "name": "python",
   "nbconvert_exporter": "python",
   "pygments_lexer": "ipython3",
   "version": "3.8.8"
  }
 },
 "nbformat": 4,
 "nbformat_minor": 5
}
