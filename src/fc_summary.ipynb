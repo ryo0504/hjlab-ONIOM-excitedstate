{
 "cells": [
  {
   "cell_type": "code",
   "execution_count": 1,
   "id": "ea6d3cd5-609b-4a4c-8344-127e4c9bb078",
   "metadata": {},
   "outputs": [],
   "source": [
    "import codecs\n",
    "import glob\n",
    "import math\n",
    "import os\n",
    "from decimal import Decimal\n",
    "import pandas as pd\n",
    "import matplotlib.pyplot as plt\n",
    "from matplotlib import cm"
   ]
  },
  {
   "cell_type": "code",
   "execution_count": 2,
   "id": "ce3265ad-e901-4610-981a-d21c6c014a1b",
   "metadata": {},
   "outputs": [],
   "source": [
    "data_dir = \"data/input/*.out\"\n",
    "paths = [p for p in glob.glob(data_dir)]"
   ]
  },
  {
   "cell_type": "code",
   "execution_count": 3,
   "id": "78138234-d063-4bfa-8de0-1e2c20d92fce",
   "metadata": {},
   "outputs": [],
   "source": [
    "initial_key = \"low   system:  model energy\"\n",
    "end_key = \"ONIOM: calculating electric field derivatives.\"\n",
    "result_dir = \"data/output/result.csv\"\n",
    "df_output = pd.DataFrame()"
   ]
  },
  {
   "cell_type": "code",
   "execution_count": 4,
   "id": "6c33f255-e796-403d-bf2a-c32e0b894f32",
   "metadata": {},
   "outputs": [],
   "source": [
    "for path in paths:\n",
    "    # file_nameから角度の情報を取る\n",
    "    file_name = path.split('/')[-1]\n",
    "    torsion_angle = int(file_name.split(\"@\")[0].split(\"_\")[-1])\n",
    "\n",
    "    with codecs.open(path, \"r\", \"UTF-8\", \"ignore\") as file:\n",
    "        df = pd.read_table(file)"
   ]
  },
  {
   "cell_type": "code",
   "execution_count": 5,
   "id": "a3c1137a-2937-4b10-90cb-1ee829ac5059",
   "metadata": {},
   "outputs": [
    {
     "data": {
      "text/html": [
       "<div>\n",
       "<style scoped>\n",
       "    .dataframe tbody tr th:only-of-type {\n",
       "        vertical-align: middle;\n",
       "    }\n",
       "\n",
       "    .dataframe tbody tr th {\n",
       "        vertical-align: top;\n",
       "    }\n",
       "\n",
       "    .dataframe thead th {\n",
       "        text-align: right;\n",
       "    }\n",
       "</style>\n",
       "<table border=\"1\" class=\"dataframe\">\n",
       "  <thead>\n",
       "    <tr style=\"text-align: right;\">\n",
       "      <th></th>\n",
       "      <th>Entering Link 1 = C:\\G16W\\l1.exe PID=     48436.</th>\n",
       "    </tr>\n",
       "  </thead>\n",
       "  <tbody>\n",
       "    <tr>\n",
       "      <th>0</th>\n",
       "      <td>Copyright (c) 1988-2019, Gaussian, Inc.  All ...</td>\n",
       "    </tr>\n",
       "    <tr>\n",
       "      <th>1</th>\n",
       "      <td>This is part of the Gaussian(R) 16 program.  ...</td>\n",
       "    </tr>\n",
       "    <tr>\n",
       "      <th>2</th>\n",
       "      <td>the Gaussian(R) 09 system (copyright 2009, Ga...</td>\n",
       "    </tr>\n",
       "    <tr>\n",
       "      <th>3</th>\n",
       "      <td>the Gaussian(R) 03 system (copyright 2003, Ga...</td>\n",
       "    </tr>\n",
       "    <tr>\n",
       "      <th>4</th>\n",
       "      <td>the Gaussian(R) 98 system (copyright 1998, Ga...</td>\n",
       "    </tr>\n",
       "    <tr>\n",
       "      <th>...</th>\n",
       "      <td>...</td>\n",
       "    </tr>\n",
       "    <tr>\n",
       "      <th>4014</th>\n",
       "      <td>THE WASTEBASKET FOR THE DIRECTIONS.</td>\n",
       "    </tr>\n",
       "    <tr>\n",
       "      <th>4015</th>\n",
       "      <td>Job cpu time:       0 days  0 hours 53 minute...</td>\n",
       "    </tr>\n",
       "    <tr>\n",
       "      <th>4016</th>\n",
       "      <td>Elapsed time:       0 days  0 hours 52 minute...</td>\n",
       "    </tr>\n",
       "    <tr>\n",
       "      <th>4017</th>\n",
       "      <td>File lengths (MBytes):  RWF=   2957 Int=     ...</td>\n",
       "    </tr>\n",
       "    <tr>\n",
       "      <th>4018</th>\n",
       "      <td>Normal termination of Gaussian 16 at Fri Dec ...</td>\n",
       "    </tr>\n",
       "  </tbody>\n",
       "</table>\n",
       "<p>4019 rows × 1 columns</p>\n",
       "</div>"
      ],
      "text/plain": [
       "       Entering Link 1 = C:\\G16W\\l1.exe PID=     48436.\n",
       "0      Copyright (c) 1988-2019, Gaussian, Inc.  All ...\n",
       "1      This is part of the Gaussian(R) 16 program.  ...\n",
       "2      the Gaussian(R) 09 system (copyright 2009, Ga...\n",
       "3      the Gaussian(R) 03 system (copyright 2003, Ga...\n",
       "4      the Gaussian(R) 98 system (copyright 1998, Ga...\n",
       "...                                                 ...\n",
       "4014                THE WASTEBASKET FOR THE DIRECTIONS.\n",
       "4015   Job cpu time:       0 days  0 hours 53 minute...\n",
       "4016   Elapsed time:       0 days  0 hours 52 minute...\n",
       "4017   File lengths (MBytes):  RWF=   2957 Int=     ...\n",
       "4018   Normal termination of Gaussian 16 at Fri Dec ...\n",
       "\n",
       "[4019 rows x 1 columns]"
      ]
     },
     "execution_count": 5,
     "metadata": {},
     "output_type": "execute_result"
    }
   ],
   "source": [
    "df"
   ]
  },
  {
   "cell_type": "code",
   "execution_count": null,
   "id": "68e4ab52-b68e-4acc-ad1e-d7794a262b83",
   "metadata": {},
   "outputs": [],
   "source": []
  }
 ],
 "metadata": {
  "kernelspec": {
   "display_name": "Python 3",
   "language": "python",
   "name": "python3"
  },
  "language_info": {
   "codemirror_mode": {
    "name": "ipython",
    "version": 3
   },
   "file_extension": ".py",
   "mimetype": "text/x-python",
   "name": "python",
   "nbconvert_exporter": "python",
   "pygments_lexer": "ipython3",
   "version": "3.8.8"
  }
 },
 "nbformat": 4,
 "nbformat_minor": 5
}
