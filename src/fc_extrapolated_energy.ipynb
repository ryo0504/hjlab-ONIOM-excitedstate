{
 "cells": [
  {
   "cell_type": "code",
   "execution_count": 1,
   "id": "43ea1aba-ad68-44df-9860-1069a54460c2",
   "metadata": {},
   "outputs": [],
   "source": [
    "import codecs\n",
    "import glob\n",
    "import pandas as pd\n",
    "import matplotlib.pyplot as plt\n",
    "from matplotlib import cm"
   ]
  },
  {
   "cell_type": "code",
   "execution_count": 2,
   "id": "c0b6d456-759a-4cfd-8e1b-e377da3a69c3",
   "metadata": {},
   "outputs": [],
   "source": [
    "data_dir = \"data/input/*.out\"\n",
    "paths = [p for p in glob.glob(data_dir)]\n",
    "initial_key = \"low   system:  model energy\"\n",
    "end_key = \"ONIOM: calculating electric field derivatives.\"\n",
    "result_dir = \"data/output/result.csv\"\n",
    "df_output = pd.DataFrame()"
   ]
  },
  {
   "cell_type": "code",
   "execution_count": 3,
   "id": "fc79e463-f83e-4b0c-ad78-fcd97634bc92",
   "metadata": {},
   "outputs": [],
   "source": [
    "for path in paths:\n",
    "    # file_nameから角度の情報を取る\n",
    "    file_name = path.split('/')[-1]\n",
    "    torsion_angle = int(file_name.split(\"@\")[0].split(\"_\")[-1])\n",
    "\n",
    "    with codecs.open(path, \"r\", \"UTF-8\", \"ignore\") as file:\n",
    "        df = pd.read_table(file)\n",
    "        df = df.rename(columns={df.columns[0]: 'Col_1'})\n",
    "        # initial_keyを含む行を探す\n",
    "        initial_key_df = df[df['Col_1'].str.contains(initial_key, case=False)]\n",
    "        initial_key_index = initial_key_df.index[0]\n",
    "        df = df.iloc[initial_key_index:]\n",
    "        # initial_keyを含む行以降のend_keyを含む行を抜き出す\n",
    "        end_key_df = df[df['Col_1'].str.contains(end_key)]\n",
    "        # dfを更新しているのでここでの行番号は0から始まる\n",
    "        end_key_index = end_key_df.index[0] - initial_key_index\n",
    "        df = df.iloc[:end_key_index]\n",
    "        # 該当行の抜き出しが完了\n",
    "        \n",
    "        # 各エネルギー値の抜き出し\n",
    "        low_model = float(list(df['Col_1'])[0].split(\":\")[-1])\n",
    "        high_model = float(list(df['Col_1'])[1].split(\":\")[-1])\n",
    "        low_real = float(list(df['Col_1'])[2].split(\":\")[-1])\n",
    "        high_real = float(list(df['Col_1'])[3].split(\"=\")[-1])\n",
    "        \n",
    "        df_E = pd.DataFrame(data=[high_real, low_real, high_model, low_model], \n",
    "                            columns=[torsion_angle],\n",
    "                            index=[\"high real\", \"low real\", \"high model\", \"low model\"]).T\n",
    "        df_output = pd.concat([df_output, df_E])\n",
    "         "
   ]
  },
  {
   "cell_type": "code",
   "execution_count": 4,
   "id": "1ca36cd1-ea7b-49c9-a7a6-e81b7f212380",
   "metadata": {},
   "outputs": [],
   "source": [
    "df_output = df_output.sort_index()"
   ]
  },
  {
   "cell_type": "code",
   "execution_count": null,
   "id": "05abad06-0770-42d4-aad8-e988948a7356",
   "metadata": {},
   "outputs": [],
   "source": [
    "df_output.to_csv(result_dir)"
   ]
  }
 ],
 "metadata": {
  "kernelspec": {
   "display_name": "Python 3",
   "language": "python",
   "name": "python3"
  },
  "language_info": {
   "codemirror_mode": {
    "name": "ipython",
    "version": 3
   },
   "file_extension": ".py",
   "mimetype": "text/x-python",
   "name": "python",
   "nbconvert_exporter": "python",
   "pygments_lexer": "ipython3",
   "version": "3.8.8"
  }
 },
 "nbformat": 4,
 "nbformat_minor": 5
}
