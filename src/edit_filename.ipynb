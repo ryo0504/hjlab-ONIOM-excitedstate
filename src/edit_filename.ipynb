{
 "cells": [
  {
   "cell_type": "code",
   "execution_count": 1,
   "id": "b5644900-538e-48d0-b523-167825f49b81",
   "metadata": {},
   "outputs": [],
   "source": [
    "import glob\n",
    "import os"
   ]
  },
  {
   "cell_type": "code",
   "execution_count": 40,
   "id": "9500bf92-11db-493b-a4df-edadfc1c2f83",
   "metadata": {},
   "outputs": [],
   "source": [
    "# ファイル名の変更を行うコード\n",
    "# 注意　データの書き換えコードなのでinputファイルに直接変更を施す\n",
    "\n",
    "data_dir = \"data/input/S2修正/beta/opt1/*.gjf\"\n",
    "paths = [p for p in glob.glob(data_dir)]\n",
    "\n",
    "# 置換したい文字列を指定\n",
    "key = \"@2_\"\n",
    "new_key = \"@2\"\n",
    "\n",
    "for path in paths:\n",
    "    if key in key in path.split(\"/\")[-1]:\n",
    "        old_name_list = path.split(key)\n",
    "        new_name = old_name_list[0] + new_key + old_name_list[1]\n",
    "        os.rename(path, new_name)"
   ]
  }
 ],
 "metadata": {
  "kernelspec": {
   "display_name": "Python 3",
   "language": "python",
   "name": "python3"
  },
  "language_info": {
   "codemirror_mode": {
    "name": "ipython",
    "version": 3
   },
   "file_extension": ".py",
   "mimetype": "text/x-python",
   "name": "python",
   "nbconvert_exporter": "python",
   "pygments_lexer": "ipython3",
   "version": "3.8.8"
  }
 },
 "nbformat": 4,
 "nbformat_minor": 5
}
