{
 "cells": [
  {
   "cell_type": "code",
   "execution_count": 8,
   "id": "b5644900-538e-48d0-b523-167825f49b81",
   "metadata": {},
   "outputs": [],
   "source": [
    "import glob\n",
    "import os"
   ]
  },
  {
   "cell_type": "code",
   "execution_count": 9,
   "id": "9500bf92-11db-493b-a4df-edadfc1c2f83",
   "metadata": {},
   "outputs": [],
   "source": [
    "# ファイル名の変更を行うコード\n",
    "# 注意　データの書き換えコードなのでinputファイルに直接変更を施す\n",
    "\n",
    "data_dir = \"data/input/励起状態/test/*.gjf\"\n",
    "paths = [p for p in glob.glob(data_dir)]\n",
    "\n",
    "# 置換したい文字列を指定\n",
    "key = \"TDDFT\"\n",
    "new_key = \"TDDFT_test\"\n",
    "\n",
    "for path in paths:\n",
    "    old_name = path\n",
    "    old_name_list = old_name.split(key)\n",
    "    new_name = old_name_list[0] + new_key + old_name_list[1]\n",
    "    os.rename(old_name, new_name)"
   ]
  },
  {
   "cell_type": "code",
   "execution_count": null,
   "id": "e1c0920f-b14d-490c-a483-ce83d57759ea",
   "metadata": {},
   "outputs": [],
   "source": []
  }
 ],
 "metadata": {
  "kernelspec": {
   "display_name": "Python 3",
   "language": "python",
   "name": "python3"
  },
  "language_info": {
   "codemirror_mode": {
    "name": "ipython",
    "version": 3
   },
   "file_extension": ".py",
   "mimetype": "text/x-python",
   "name": "python",
   "nbconvert_exporter": "python",
   "pygments_lexer": "ipython3",
   "version": "3.8.8"
  }
 },
 "nbformat": 4,
 "nbformat_minor": 5
}
