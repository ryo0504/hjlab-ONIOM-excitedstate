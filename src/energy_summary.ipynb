{
 "cells": [
  {
   "cell_type": "code",
   "execution_count": 8,
   "id": "90a126a5-55b0-4abf-bd1d-c1324b5c847f",
   "metadata": {},
   "outputs": [],
   "source": [
    "import codecs\n",
    "import glob\n",
    "import math\n",
    "import os\n",
    "from decimal import Decimal\n",
    "import seaborn as sns\n",
    "import pandas as pd\n",
    "import matplotlib.pyplot as plt\n",
    "from matplotlib import cm\n",
    "\n",
    "\n",
    "\n",
    "plt.rcParams[\"font.family\"] = \"Times New Roman\""
   ]
  },
  {
   "cell_type": "code",
   "execution_count": 3,
   "id": "76ca8aa5-7823-4322-a58f-b1798345c40a",
   "metadata": {},
   "outputs": [],
   "source": [
    "data_dir = \"data/input/励起状態/beta/NH/*.out\"\n",
    "paths = [p for p in glob.glob(data_dir)]"
   ]
  },
  {
   "cell_type": "code",
   "execution_count": 4,
   "id": "2b74a562-fd62-4ddc-9c7d-6404ae178923",
   "metadata": {},
   "outputs": [],
   "source": [
    "# とりあえずfを取り出して見る。\n",
    "# key\n",
    "excited_state_1 = \"Excited State   1\"\n",
    "excited_state_2 = \"Excited State   2\"\n",
    "excited_state_3 = \"Excited State   3\"\n",
    "\n",
    "initial_key = \"Excited State   1\"\n",
    "end_key = \"SavETr\"\n",
    "result_dir = \"data/output/result.csv\"\n",
    "df_output = pd.DataFrame()\n",
    "\n",
    "for path in paths:\n",
    "    # file_nameから角度の情報を取る\n",
    "    file_name = path.split('/')[-1]\n",
    "    torsion_angle = int(file_name.split(\"@\")[0].split(\"_\")[-1])\n",
    "\n",
    "    with codecs.open(path, \"r\", \"UTF-8\", \"ignore\") as file:\n",
    "        df = pd.read_table(file)\n",
    "        df = df.rename(columns={df.columns[0]: 'Col_1'})\n",
    "        # initial_keyを含む行を探す\n",
    "        initial_key_df = df[df['Col_1'].str.contains(initial_key, case=False)]\n",
    "        initial_key_index = initial_key_df.index[0]\n",
    "        df = df.iloc[initial_key_index:]\n",
    "        # initial_keyを含む行以降のend_keyを含む行を抜き出す\n",
    "        end_key_df = df[df['Col_1'].str.contains(end_key)]\n",
    "        # dfを更新しているのでここでの行番号は0から始まる\n",
    "        end_key_index = end_key_df.index[0] - initial_key_index\n",
    "        df = df.iloc[:end_key_index]\n",
    "        # 該当行の抜き出しが完了\n",
    "        \n",
    "        S1_data = [a for a in df[df['Col_1'].str.contains(excited_state_1)]['Col_1'].iloc[0].split(' ') if a != '']\n",
    "        f_1 = float(S1_data[-2].split('f=')[-1])\n",
    "        E_1 = float(S1_data[4])\n",
    "        \n",
    "        \n",
    "        S2_data = [a for a in df[df['Col_1'].str.contains(excited_state_2)]['Col_1'].iloc[0].split(' ') if a != '']\n",
    "        f_2 = float(S2_data[-2].split('f=')[-1])\n",
    "        E_2 = float(S2_data[4])\n",
    "        \n",
    "        S3_data = [a for a in df[df['Col_1'].str.contains(excited_state_3)]['Col_1'].iloc[0].split(' ') if a != '']\n",
    "        f_3 = float(S3_data[-2].split('f=')[-1])\n",
    "        E_3 = float(S3_data[4])\n",
    "        \n",
    "        S1_data_index = df[df['Col_1'].str.contains(excited_state_1)].index[0]\n",
    "        S2_data_index = df[df['Col_1'].str.contains(excited_state_2)].index[0]\n",
    "        S3_data_index = df[df['Col_1'].str.contains(excited_state_3)].index[0]\n",
    "\n",
    "#         軌道とその寄与のデータ\n",
    "        # 1\n",
    "        S1_orbit = []\n",
    "        S1_contri = []\n",
    "        for n in range(S2_data_index - S1_data_index): \n",
    "            if df.loc[n + S1_data_index].str.contains(\"->\").iloc[0]:\n",
    "                S1_orbit.append((\"\").join(df.loc[n + S1_data_index][0].split(\" \")[6:9]))\n",
    "                S1_contri.append(df.loc[n + S1_data_index][0].split(\" \")[-1])\n",
    "\n",
    "        # 2\n",
    "        S2_orbit = []\n",
    "        S2_contri = []\n",
    "        for n in range(S3_data_index - S2_data_index): \n",
    "            if df.loc[n + S2_data_index].str.contains(\"->\").iloc[0]:\n",
    "                S2_orbit.append((\"\").join(df.loc[n + S2_data_index][0].split(\" \")[6:9]))\n",
    "                S2_contri.append(df.loc[n + S2_data_index][0].split(\" \")[-1])\n",
    "\n",
    "        # 3 \n",
    "        S3_orbit = []\n",
    "        S3_contri = []\n",
    "        for n in range(S1_data_index + len(df) - S3_data_index): \n",
    "            if df.loc[n + S3_data_index].str.contains(\"->\").iloc[0]:\n",
    "                S3_orbit.append((\"\").join(df.loc[n + S3_data_index][0].split(\" \")[6:9]))\n",
    "                S3_contri.append(df.loc[n + S3_data_index][0].split(\" \")[-1])\n",
    "\n",
    "        \n",
    "        df_result = pd.DataFrame(data=[f_1, E_1, f_2, E_2, f_3, E_3], \n",
    "                            columns=[torsion_angle],\n",
    "                            index=[\"f_1\", \"E_1\", \"f_2\", \"E_2\", \"f_3\", \"E_3\"]).T\n",
    "#         df_f = pd.DataFrame(data=[f_1, f_2, f_3], \n",
    "#                             columns=[torsion_angle],\n",
    "#                             index=[\"f_1\", \"f_2\", \"f_3\"]).T\n",
    "#         df_E = pd.DataFrame(data=[E_1, E_2, E_3], \n",
    "#                             columns=[torsion_angle],\n",
    "#                             index=[\"E_1\", \"E_2\", \"E_3\"]).T\n",
    "\n",
    "#         df_transition = pd.DataFrame(data=[f_1, E_1, f_2, E_2, f_3, E_3], \n",
    "#                             columns=[torsion_angle],\n",
    "#                             index=[\"f_1\", \"E_1\", \"f_2\", \"E_2\", \"f_3\", \"E_3\"]).T\n",
    "\n",
    "        df_output = pd.concat([df_output, df_result]).sort_index()"
   ]
  },
  {
   "cell_type": "code",
   "execution_count": 12,
   "id": "6da2c5ee-631d-4474-8b48-7d98e1ce8df2",
   "metadata": {},
   "outputs": [],
   "source": [
    "# df_output"
   ]
  },
  {
   "cell_type": "markdown",
   "id": "cf4889f5-edb1-4561-83b5-c71176b28670",
   "metadata": {},
   "source": [
    "## S1, S2のエネルギープロット"
   ]
  },
  {
   "cell_type": "code",
   "execution_count": 11,
   "id": "ebc9f106-1d67-44b7-bc1c-df957fbb36a9",
   "metadata": {},
   "outputs": [
    {
     "data": {
      "image/png": "[encoded data removed]",
      "text/plain": [
       "<Figure size 413.625x360 with 1 Axes>"
      ]
     },
     "metadata": {
      "needs_background": "light"
     },
     "output_type": "display_data"
    }
   ],
   "source": [
    "df_E = df_output.drop(columns=[\"f_1\", \"f_2\", \"f_3\"])\n",
    "\n",
    "g = sns.relplot(data=df_E, markers=True)\n",
    "g.ax.set_xlabel('Torsion angle [°]')\n",
    "g.ax.set_ylabel('Energy [ev]')\n",
    "plt.show()"
   ]
  },
  {
   "cell_type": "code",
   "execution_count": 98,
   "id": "f9b69a01-ccaf-4a2d-bb3e-77229a29c482",
   "metadata": {},
   "outputs": [
    {
     "data": {
      "text/plain": [
       "Index(['E_1', 'E_2', 'E_3'], dtype='object')"
      ]
     },
     "execution_count": 98,
     "metadata": {},
     "output_type": "execute_result"
    }
   ],
   "source": [
    "df_E.columns"
   ]
  },
  {
   "cell_type": "code",
   "execution_count": 92,
   "id": "c5a507cd-23b6-40a8-9cab-a187cebc6613",
   "metadata": {},
   "outputs": [
    {
     "ename": "TypeError",
     "evalue": "'list' object is not callable",
     "output_type": "error",
     "traceback": [
      "\u001b[0;31m---------------------------------------------------------------------------\u001b[0m",
      "\u001b[0;31mTypeError\u001b[0m                                 Traceback (most recent call last)",
      "\u001b[0;32m<ipython-input-92-76392371aba0>\u001b[0m in \u001b[0;36m<module>\u001b[0;34m\u001b[0m\n\u001b[0;32m----> 1\u001b[0;31m \u001b[0mdf\u001b[0m\u001b[0;34m.\u001b[0m\u001b[0mrename\u001b[0m\u001b[0;34m(\u001b[0m\u001b[0mindex\u001b[0m\u001b[0;34m=\u001b[0m\u001b[0;34m[\u001b[0m\u001b[0;34m'a'\u001b[0m\u001b[0;34m]\u001b[0m\u001b[0;34m)\u001b[0m\u001b[0;34m\u001b[0m\u001b[0;34m\u001b[0m\u001b[0m\n\u001b[0m",
      "\u001b[0;32m/opt/anaconda3/lib/python3.8/site-packages/pandas/util/_decorators.py\u001b[0m in \u001b[0;36mwrapper\u001b[0;34m(*args, **kwargs)\u001b[0m\n\u001b[1;32m    310\u001b[0m         \u001b[0;34m@\u001b[0m\u001b[0mwraps\u001b[0m\u001b[0;34m(\u001b[0m\u001b[0mfunc\u001b[0m\u001b[0;34m)\u001b[0m\u001b[0;34m\u001b[0m\u001b[0;34m\u001b[0m\u001b[0m\n\u001b[1;32m    311\u001b[0m         \u001b[0;32mdef\u001b[0m \u001b[0mwrapper\u001b[0m\u001b[0;34m(\u001b[0m\u001b[0;34m*\u001b[0m\u001b[0margs\u001b[0m\u001b[0;34m,\u001b[0m \u001b[0;34m**\u001b[0m\u001b[0mkwargs\u001b[0m\u001b[0;34m)\u001b[0m \u001b[0;34m->\u001b[0m \u001b[0mCallable\u001b[0m\u001b[0;34m[\u001b[0m\u001b[0;34m...\u001b[0m\u001b[0;34m,\u001b[0m \u001b[0mAny\u001b[0m\u001b[0;34m]\u001b[0m\u001b[0;34m:\u001b[0m\u001b[0;34m\u001b[0m\u001b[0;34m\u001b[0m\u001b[0m\n\u001b[0;32m--> 312\u001b[0;31m             \u001b[0;32mreturn\u001b[0m \u001b[0mfunc\u001b[0m\u001b[0;34m(\u001b[0m\u001b[0;34m*\u001b[0m\u001b[0margs\u001b[0m\u001b[0;34m,\u001b[0m \u001b[0;34m**\u001b[0m\u001b[0mkwargs\u001b[0m\u001b[0;34m)\u001b[0m\u001b[0;34m\u001b[0m\u001b[0;34m\u001b[0m\u001b[0m\n\u001b[0m\u001b[1;32m    313\u001b[0m \u001b[0;34m\u001b[0m\u001b[0m\n\u001b[1;32m    314\u001b[0m         \u001b[0mkind\u001b[0m \u001b[0;34m=\u001b[0m \u001b[0minspect\u001b[0m\u001b[0;34m.\u001b[0m\u001b[0mParameter\u001b[0m\u001b[0;34m.\u001b[0m\u001b[0mPOSITIONAL_OR_KEYWORD\u001b[0m\u001b[0;34m\u001b[0m\u001b[0;34m\u001b[0m\u001b[0m\n",
      "\u001b[0;32m/opt/anaconda3/lib/python3.8/site-packages/pandas/core/frame.py\u001b[0m in \u001b[0;36mrename\u001b[0;34m(self, mapper, index, columns, axis, copy, inplace, level, errors)\u001b[0m\n\u001b[1;32m   4439\u001b[0m         \u001b[0;36m4\u001b[0m  \u001b[0;36m3\u001b[0m  \u001b[0;36m6\u001b[0m\u001b[0;34m\u001b[0m\u001b[0;34m\u001b[0m\u001b[0m\n\u001b[1;32m   4440\u001b[0m         \"\"\"\n\u001b[0;32m-> 4441\u001b[0;31m         return super().rename(\n\u001b[0m\u001b[1;32m   4442\u001b[0m             \u001b[0mmapper\u001b[0m\u001b[0;34m=\u001b[0m\u001b[0mmapper\u001b[0m\u001b[0;34m,\u001b[0m\u001b[0;34m\u001b[0m\u001b[0;34m\u001b[0m\u001b[0m\n\u001b[1;32m   4443\u001b[0m             \u001b[0mindex\u001b[0m\u001b[0;34m=\u001b[0m\u001b[0mindex\u001b[0m\u001b[0;34m,\u001b[0m\u001b[0;34m\u001b[0m\u001b[0;34m\u001b[0m\u001b[0m\n",
      "\u001b[0;32m/opt/anaconda3/lib/python3.8/site-packages/pandas/core/generic.py\u001b[0m in \u001b[0;36mrename\u001b[0;34m(self, mapper, index, columns, axis, copy, inplace, level, errors)\u001b[0m\n\u001b[1;32m   1055\u001b[0m                     \u001b[0;32mraise\u001b[0m \u001b[0mKeyError\u001b[0m\u001b[0;34m(\u001b[0m\u001b[0;34mf\"{missing_labels} not found in axis\"\u001b[0m\u001b[0;34m)\u001b[0m\u001b[0;34m\u001b[0m\u001b[0;34m\u001b[0m\u001b[0m\n\u001b[1;32m   1056\u001b[0m \u001b[0;34m\u001b[0m\u001b[0m\n\u001b[0;32m-> 1057\u001b[0;31m             \u001b[0mnew_index\u001b[0m \u001b[0;34m=\u001b[0m \u001b[0max\u001b[0m\u001b[0;34m.\u001b[0m\u001b[0m_transform_index\u001b[0m\u001b[0;34m(\u001b[0m\u001b[0mf\u001b[0m\u001b[0;34m,\u001b[0m \u001b[0mlevel\u001b[0m\u001b[0;34m)\u001b[0m\u001b[0;34m\u001b[0m\u001b[0;34m\u001b[0m\u001b[0m\n\u001b[0m\u001b[1;32m   1058\u001b[0m             \u001b[0mresult\u001b[0m\u001b[0;34m.\u001b[0m\u001b[0m_set_axis_nocheck\u001b[0m\u001b[0;34m(\u001b[0m\u001b[0mnew_index\u001b[0m\u001b[0;34m,\u001b[0m \u001b[0maxis\u001b[0m\u001b[0;34m=\u001b[0m\u001b[0maxis_no\u001b[0m\u001b[0;34m,\u001b[0m \u001b[0minplace\u001b[0m\u001b[0;34m=\u001b[0m\u001b[0;32mTrue\u001b[0m\u001b[0;34m)\u001b[0m\u001b[0;34m\u001b[0m\u001b[0;34m\u001b[0m\u001b[0m\n\u001b[1;32m   1059\u001b[0m             \u001b[0mresult\u001b[0m\u001b[0;34m.\u001b[0m\u001b[0m_clear_item_cache\u001b[0m\u001b[0;34m(\u001b[0m\u001b[0;34m)\u001b[0m\u001b[0;34m\u001b[0m\u001b[0;34m\u001b[0m\u001b[0m\n",
      "\u001b[0;32m/opt/anaconda3/lib/python3.8/site-packages/pandas/core/indexes/base.py\u001b[0m in \u001b[0;36m_transform_index\u001b[0;34m(self, func, level)\u001b[0m\n\u001b[1;32m   5136\u001b[0m             \u001b[0;32mreturn\u001b[0m \u001b[0mtype\u001b[0m\u001b[0;34m(\u001b[0m\u001b[0mself\u001b[0m\u001b[0;34m)\u001b[0m\u001b[0;34m.\u001b[0m\u001b[0mfrom_tuples\u001b[0m\u001b[0;34m(\u001b[0m\u001b[0mitems\u001b[0m\u001b[0;34m,\u001b[0m \u001b[0mnames\u001b[0m\u001b[0;34m=\u001b[0m\u001b[0mself\u001b[0m\u001b[0;34m.\u001b[0m\u001b[0mnames\u001b[0m\u001b[0;34m)\u001b[0m\u001b[0;34m\u001b[0m\u001b[0;34m\u001b[0m\u001b[0m\n\u001b[1;32m   5137\u001b[0m         \u001b[0;32melse\u001b[0m\u001b[0;34m:\u001b[0m\u001b[0;34m\u001b[0m\u001b[0;34m\u001b[0m\u001b[0m\n\u001b[0;32m-> 5138\u001b[0;31m             \u001b[0mitems\u001b[0m \u001b[0;34m=\u001b[0m \u001b[0;34m[\u001b[0m\u001b[0mfunc\u001b[0m\u001b[0;34m(\u001b[0m\u001b[0mx\u001b[0m\u001b[0;34m)\u001b[0m \u001b[0;32mfor\u001b[0m \u001b[0mx\u001b[0m \u001b[0;32min\u001b[0m \u001b[0mself\u001b[0m\u001b[0;34m]\u001b[0m\u001b[0;34m\u001b[0m\u001b[0;34m\u001b[0m\u001b[0m\n\u001b[0m\u001b[1;32m   5139\u001b[0m             \u001b[0;32mreturn\u001b[0m \u001b[0mIndex\u001b[0m\u001b[0;34m(\u001b[0m\u001b[0mitems\u001b[0m\u001b[0;34m,\u001b[0m \u001b[0mname\u001b[0m\u001b[0;34m=\u001b[0m\u001b[0mself\u001b[0m\u001b[0;34m.\u001b[0m\u001b[0mname\u001b[0m\u001b[0;34m,\u001b[0m \u001b[0mtupleize_cols\u001b[0m\u001b[0;34m=\u001b[0m\u001b[0;32mFalse\u001b[0m\u001b[0;34m)\u001b[0m\u001b[0;34m\u001b[0m\u001b[0;34m\u001b[0m\u001b[0m\n\u001b[1;32m   5140\u001b[0m \u001b[0;34m\u001b[0m\u001b[0m\n",
      "\u001b[0;32m/opt/anaconda3/lib/python3.8/site-packages/pandas/core/indexes/base.py\u001b[0m in \u001b[0;36m<listcomp>\u001b[0;34m(.0)\u001b[0m\n\u001b[1;32m   5136\u001b[0m             \u001b[0;32mreturn\u001b[0m \u001b[0mtype\u001b[0m\u001b[0;34m(\u001b[0m\u001b[0mself\u001b[0m\u001b[0;34m)\u001b[0m\u001b[0;34m.\u001b[0m\u001b[0mfrom_tuples\u001b[0m\u001b[0;34m(\u001b[0m\u001b[0mitems\u001b[0m\u001b[0;34m,\u001b[0m \u001b[0mnames\u001b[0m\u001b[0;34m=\u001b[0m\u001b[0mself\u001b[0m\u001b[0;34m.\u001b[0m\u001b[0mnames\u001b[0m\u001b[0;34m)\u001b[0m\u001b[0;34m\u001b[0m\u001b[0;34m\u001b[0m\u001b[0m\n\u001b[1;32m   5137\u001b[0m         \u001b[0;32melse\u001b[0m\u001b[0;34m:\u001b[0m\u001b[0;34m\u001b[0m\u001b[0;34m\u001b[0m\u001b[0m\n\u001b[0;32m-> 5138\u001b[0;31m             \u001b[0mitems\u001b[0m \u001b[0;34m=\u001b[0m \u001b[0;34m[\u001b[0m\u001b[0mfunc\u001b[0m\u001b[0;34m(\u001b[0m\u001b[0mx\u001b[0m\u001b[0;34m)\u001b[0m \u001b[0;32mfor\u001b[0m \u001b[0mx\u001b[0m \u001b[0;32min\u001b[0m \u001b[0mself\u001b[0m\u001b[0;34m]\u001b[0m\u001b[0;34m\u001b[0m\u001b[0;34m\u001b[0m\u001b[0m\n\u001b[0m\u001b[1;32m   5139\u001b[0m             \u001b[0;32mreturn\u001b[0m \u001b[0mIndex\u001b[0m\u001b[0;34m(\u001b[0m\u001b[0mitems\u001b[0m\u001b[0;34m,\u001b[0m \u001b[0mname\u001b[0m\u001b[0;34m=\u001b[0m\u001b[0mself\u001b[0m\u001b[0;34m.\u001b[0m\u001b[0mname\u001b[0m\u001b[0;34m,\u001b[0m \u001b[0mtupleize_cols\u001b[0m\u001b[0;34m=\u001b[0m\u001b[0;32mFalse\u001b[0m\u001b[0;34m)\u001b[0m\u001b[0;34m\u001b[0m\u001b[0;34m\u001b[0m\u001b[0m\n\u001b[1;32m   5140\u001b[0m \u001b[0;34m\u001b[0m\u001b[0m\n",
      "\u001b[0;31mTypeError\u001b[0m: 'list' object is not callable"
     ]
    }
   ],
   "source": [
    "df.rename(index={df.index: 'Col_1'})"
   ]
  },
  {
   "cell_type": "code",
   "execution_count": 24,
   "id": "0d6ef0a1-95e7-4221-9da8-21bdb3c00306",
   "metadata": {},
   "outputs": [],
   "source": [
    "E_1 = float(S1_data[4])"
   ]
  },
  {
   "cell_type": "code",
   "execution_count": 42,
   "id": "fb13d8e3-84d2-4e02-b624-d525b7490681",
   "metadata": {},
   "outputs": [
    {
     "data": {
      "text/html": [
       "<div>\n",
       "<style scoped>\n",
       "    .dataframe tbody tr th:only-of-type {\n",
       "        vertical-align: middle;\n",
       "    }\n",
       "\n",
       "    .dataframe tbody tr th {\n",
       "        vertical-align: top;\n",
       "    }\n",
       "\n",
       "    .dataframe thead th {\n",
       "        text-align: right;\n",
       "    }\n",
       "</style>\n",
       "<table border=\"1\" class=\"dataframe\">\n",
       "  <thead>\n",
       "    <tr style=\"text-align: right;\">\n",
       "      <th></th>\n",
       "      <th>Col_1</th>\n",
       "    </tr>\n",
       "  </thead>\n",
       "  <tbody>\n",
       "    <tr>\n",
       "      <th>2377</th>\n",
       "      <td>Excited State   1:      Singlet-A      2.5277...</td>\n",
       "    </tr>\n",
       "    <tr>\n",
       "      <th>2378</th>\n",
       "      <td>51 -&gt; 53         0.36302</td>\n",
       "    </tr>\n",
       "    <tr>\n",
       "      <th>2379</th>\n",
       "      <td>52 -&gt; 53         0.60462</td>\n",
       "    </tr>\n",
       "    <tr>\n",
       "      <th>2380</th>\n",
       "      <td>This state for optimization and/or second-ord...</td>\n",
       "    </tr>\n",
       "  </tbody>\n",
       "</table>\n",
       "</div>"
      ],
      "text/plain": [
       "                                                  Col_1\n",
       "2377   Excited State   1:      Singlet-A      2.5277...\n",
       "2378                           51 -> 53         0.36302\n",
       "2379                           52 -> 53         0.60462\n",
       "2380   This state for optimization and/or second-ord..."
      ]
     },
     "execution_count": 42,
     "metadata": {},
     "output_type": "execute_result"
    }
   ],
   "source": [
    "df.loc[S1_data_index:2380]"
   ]
  },
  {
   "cell_type": "code",
   "execution_count": 71,
   "id": "48c074bf-4583-4515-9aeb-306fa893013c",
   "metadata": {},
   "outputs": [],
   "source": [
    "\n",
    "# 1\n",
    "S1_orbit = []\n",
    "S1_contri = []\n",
    "for n in range(S2_data_index - S1_data_index): \n",
    "    if df.loc[n + S1_data_index].str.contains(\"->\").iloc[0]:\n",
    "        S1_orbit.append((\"\").join(df.loc[n + S1_data_index][0].split(\" \")[6:9]))\n",
    "        S1_contri.append(df.loc[n + S1_data_index][0].split(\" \")[-1])\n",
    "        \n",
    "# 2\n",
    "S2_orbit = []\n",
    "S2_contri = []\n",
    "for n in range(S3_data_index - S2_data_index): \n",
    "    if df.loc[n + S2_data_index].str.contains(\"->\").iloc[0]:\n",
    "        S2_orbit.append((\"\").join(df.loc[n + S2_data_index][0].split(\" \")[6:9]))\n",
    "        S2_contri.append(df.loc[n + S2_data_index][0].split(\" \")[-1])\n",
    "    \n",
    "# 3 \n",
    "S3_orbit = []\n",
    "S3_contri = []\n",
    "for n in range(S1_data_index + len(df) - S3_data_index): \n",
    "    if df.loc[n + S3_data_index].str.contains(\"->\").iloc[0]:\n",
    "        S3_orbit.append((\"\").join(df.loc[n + S3_data_index][0].split(\" \")[6:9]))\n",
    "        S3_contri.append(df.loc[n + S3_data_index][0].split(\" \")[-1])"
   ]
  },
  {
   "cell_type": "code",
   "execution_count": 77,
   "id": "50b6f756-8b27-4132-b1a7-b74c6d373e1c",
   "metadata": {},
   "outputs": [
    {
     "data": {
      "text/plain": [
       "['51->53', '52->53']"
      ]
     },
     "execution_count": 77,
     "metadata": {},
     "output_type": "execute_result"
    }
   ],
   "source": [
    "S2_orbit"
   ]
  },
  {
   "cell_type": "code",
   "execution_count": 76,
   "id": "42e24d24-7271-47bd-90d2-6f6225deefce",
   "metadata": {},
   "outputs": [
    {
     "data": {
      "text/plain": [
       "['0.59845', '-0.36337']"
      ]
     },
     "execution_count": 76,
     "metadata": {},
     "output_type": "execute_result"
    }
   ],
   "source": [
    "S2_contri"
   ]
  },
  {
   "cell_type": "code",
   "execution_count": 40,
   "id": "e543c4ec-21f4-4b4f-871f-736e3ee65623",
   "metadata": {},
   "outputs": [
    {
     "data": {
      "text/plain": [
       "'52->53'"
      ]
     },
     "execution_count": 40,
     "metadata": {},
     "output_type": "execute_result"
    }
   ],
   "source": [
    "orbit_n"
   ]
  },
  {
   "cell_type": "code",
   "execution_count": 9,
   "id": "b9b4b6ce-0a3b-4ecd-974f-685640f4c91c",
   "metadata": {},
   "outputs": [
    {
     "data": {
      "text/plain": [
       "2383"
      ]
     },
     "execution_count": 9,
     "metadata": {},
     "output_type": "execute_result"
    }
   ],
   "source": []
  },
  {
   "cell_type": "code",
   "execution_count": 79,
   "id": "7be9431b-2e56-40ec-8d3e-91001a57d407",
   "metadata": {},
   "outputs": [
    {
     "data": {
      "text/plain": [
       "'Excited State   2'"
      ]
     },
     "execution_count": 79,
     "metadata": {},
     "output_type": "execute_result"
    }
   ],
   "source": [
    "excited_state_2"
   ]
  },
  {
   "cell_type": "code",
   "execution_count": 64,
   "id": "7b327a33-3c41-428b-8be3-a9be546b6119",
   "metadata": {},
   "outputs": [
    {
     "name": "stdout",
     "output_type": "stream",
     "text": [
      "range(0, 5)\n"
     ]
    }
   ],
   "source": [
    "print(range(280-275))"
   ]
  },
  {
   "cell_type": "code",
   "execution_count": 56,
   "id": "ddc5b880-f33c-4486-959d-b07c19805b1c",
   "metadata": {},
   "outputs": [
    {
     "data": {
      "text/plain": [
       "2386"
      ]
     },
     "execution_count": 56,
     "metadata": {},
     "output_type": "execute_result"
    }
   ],
   "source": [
    "S3_data_index \n"
   ]
  },
  {
   "cell_type": "code",
   "execution_count": 63,
   "id": "747bc1fb-a319-45cf-9d5f-fc33f6f85866",
   "metadata": {},
   "outputs": [
    {
     "data": {
      "text/plain": [
       "6"
      ]
     },
     "execution_count": 63,
     "metadata": {},
     "output_type": "execute_result"
    }
   ],
   "source": [
    "S2_data_index - S1_data_index"
   ]
  },
  {
   "cell_type": "code",
   "execution_count": 54,
   "id": "3b60a800-924a-443e-96fa-ffc64c623018",
   "metadata": {},
   "outputs": [
    {
     "data": {
      "text/html": [
       "<div>\n",
       "<style scoped>\n",
       "    .dataframe tbody tr th:only-of-type {\n",
       "        vertical-align: middle;\n",
       "    }\n",
       "\n",
       "    .dataframe tbody tr th {\n",
       "        vertical-align: top;\n",
       "    }\n",
       "\n",
       "    .dataframe thead th {\n",
       "        text-align: right;\n",
       "    }\n",
       "</style>\n",
       "<table border=\"1\" class=\"dataframe\">\n",
       "  <thead>\n",
       "    <tr style=\"text-align: right;\">\n",
       "      <th></th>\n",
       "      <th>Col_1</th>\n",
       "    </tr>\n",
       "  </thead>\n",
       "  <tbody>\n",
       "    <tr>\n",
       "      <th>2377</th>\n",
       "      <td>Excited State   1:      Singlet-A      2.5277...</td>\n",
       "    </tr>\n",
       "    <tr>\n",
       "      <th>2378</th>\n",
       "      <td>51 -&gt; 53         0.36302</td>\n",
       "    </tr>\n",
       "    <tr>\n",
       "      <th>2379</th>\n",
       "      <td>52 -&gt; 53         0.60462</td>\n",
       "    </tr>\n",
       "    <tr>\n",
       "      <th>2380</th>\n",
       "      <td>This state for optimization and/or second-ord...</td>\n",
       "    </tr>\n",
       "    <tr>\n",
       "      <th>2381</th>\n",
       "      <td>Total Energy, E(TD-HF/TD-DFT) =  -632.0095455...</td>\n",
       "    </tr>\n",
       "    <tr>\n",
       "      <th>2382</th>\n",
       "      <td>Copying the excited state density for this st...</td>\n",
       "    </tr>\n",
       "    <tr>\n",
       "      <th>2383</th>\n",
       "      <td>Excited State   2:      Singlet-A      2.8906...</td>\n",
       "    </tr>\n",
       "    <tr>\n",
       "      <th>2384</th>\n",
       "      <td>51 -&gt; 53         0.59845</td>\n",
       "    </tr>\n",
       "    <tr>\n",
       "      <th>2385</th>\n",
       "      <td>52 -&gt; 53        -0.36337</td>\n",
       "    </tr>\n",
       "    <tr>\n",
       "      <th>2386</th>\n",
       "      <td>Excited State   3:      Singlet-A      3.8366...</td>\n",
       "    </tr>\n",
       "    <tr>\n",
       "      <th>2387</th>\n",
       "      <td>52 -&gt; 54         0.70065</td>\n",
       "    </tr>\n",
       "  </tbody>\n",
       "</table>\n",
       "</div>"
      ],
      "text/plain": [
       "                                                  Col_1\n",
       "2377   Excited State   1:      Singlet-A      2.5277...\n",
       "2378                           51 -> 53         0.36302\n",
       "2379                           52 -> 53         0.60462\n",
       "2380   This state for optimization and/or second-ord...\n",
       "2381   Total Energy, E(TD-HF/TD-DFT) =  -632.0095455...\n",
       "2382   Copying the excited state density for this st...\n",
       "2383   Excited State   2:      Singlet-A      2.8906...\n",
       "2384                           51 -> 53         0.59845\n",
       "2385                           52 -> 53        -0.36337\n",
       "2386   Excited State   3:      Singlet-A      3.8366...\n",
       "2387                           52 -> 54         0.70065"
      ]
     },
     "execution_count": 54,
     "metadata": {},
     "output_type": "execute_result"
    }
   ],
   "source": [
    "df"
   ]
  },
  {
   "cell_type": "code",
   "execution_count": 62,
   "id": "7e021cd7-8af8-49db-8ceb-27560ada3572",
   "metadata": {},
   "outputs": [
    {
     "data": {
      "text/plain": [
       "2"
      ]
     },
     "execution_count": 62,
     "metadata": {},
     "output_type": "execute_result"
    }
   ],
   "source": [
    "S1_data_index + len(df) - S3_data_index"
   ]
  },
  {
   "cell_type": "code",
   "execution_count": null,
   "id": "e7902000-523a-4b6a-b580-dff332fb10c5",
   "metadata": {},
   "outputs": [],
   "source": []
  }
 ],
 "metadata": {
  "kernelspec": {
   "display_name": "Python 3",
   "language": "python",
   "name": "python3"
  },
  "language_info": {
   "codemirror_mode": {
    "name": "ipython",
    "version": 3
   },
   "file_extension": ".py",
   "mimetype": "text/x-python",
   "name": "python",
   "nbconvert_exporter": "python",
   "pygments_lexer": "ipython3",
   "version": "3.8.8"
  }
 },
 "nbformat": 4,
 "nbformat_minor": 5
}
