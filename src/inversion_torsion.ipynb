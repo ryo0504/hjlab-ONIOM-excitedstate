{
 "cells": [
  {
   "cell_type": "code",
   "execution_count": 7,
   "id": "e95bbe08-0304-4973-8d24-4b3e01be7d9e",
   "metadata": {},
   "outputs": [],
   "source": [
    "import glob\n",
    "import os\n",
    "import json"
   ]
  },
  {
   "cell_type": "code",
   "execution_count": 10,
   "id": "1ab381fb-3f06-489a-835b-180bea7177f4",
   "metadata": {},
   "outputs": [],
   "source": [
    "data_dir = \"data/input/位置決め in hjlab/alpha2/40/プログラムで処理したファイル/Qchem-SF-TD-bhhlyp-631gd+40_zmat.gjf\"\n",
    "paths = [p for p in glob.glob(data_dir)]\n",
    "direction = \"+\"\n",
    "polymorph = \"alpha2\""
   ]
  },
  {
   "cell_type": "code",
   "execution_count": 11,
   "id": "6a573fdc-6033-4542-853c-a173d55ab8fa",
   "metadata": {},
   "outputs": [],
   "source": [
    "# Z-matrix形式のデータに対し、二面角の符号を反転させます。\n",
    "\n",
    "# ダミーを参照しているdについては操作しない→d5, d6, d7はそのままにする\n",
    "\n",
    "start_key = \"\\nd8\"\n",
    "end_key = \"\\nConstants\"\n",
    "\n",
    "for path in paths:             \n",
    "    with open(path,\"r\") as f:\n",
    "        data=f.read()\n",
    "        # 文字列置換\n",
    "        start = data.find(start_key)\n",
    "        end = data.find(end_key)\n",
    "        target_list = data[start:end]\n",
    "        initial_d_list = []\n",
    "        for dn in target_list.split('\\n'):\n",
    "            d_angle = dn.split(' ')[-1]\n",
    "            initial_d_list.append(d_angle)\n",
    "        # 空の要素を削除\n",
    "        initial_d_list = list(filter(None, initial_d_list))\n",
    "        # initial_d_listを使ってtarget_listを検索し、マッチした部分を-1倍する\n",
    "        for initial_d in initial_d_list:\n",
    "            data = data.replace(initial_d, str(float(initial_d) * -1))\n",
    "    # 同じファイル名で保存\n",
    "    with open(path, mode=\"w\", encoding=\"cp932\") as f:\n",
    "        f.write(data)"
   ]
  },
  {
   "cell_type": "code",
   "execution_count": 12,
   "id": "04fe357f-41e8-4033-93ec-cd57868a0f39",
   "metadata": {},
   "outputs": [],
   "source": [
    "# directionは周辺分子を貼り付けるだけならどちらでもいい\n",
    "# direction = \"+\"\n",
    "# polymorph = \"alpha2\"\n",
    "\n",
    "# 周辺分子を貼り付ける。多形ごとのデータを別ファイルで保管し、importして使う。\n",
    "json_open = open(\"data/SA_data (\" + direction + \").json\", \"r\")\n",
    "json_load = json.load(json_open)\n",
    "polymorph_info = json_load[polymorph]\n",
    "\n",
    "# 中心分子のデータの後に書き足す\n",
    "insert_key = \"d30\\n\"\n",
    "start_key = \"d30\\n\"\n",
    "\n",
    "for path in paths:             \n",
    "    with open(path,\"r\") as f:\n",
    "        data=f.read()\n",
    "        # 文字列置換\n",
    "        data = data.replace(insert_key, start_key + polymorph_info[\"surrounding molecule\"])\n",
    "    with open(path, mode=\"w\", encoding=\"cp932\") as f:\n",
    "        f.write(data)\n",
    "        \n",
    "\n",
    "# cell constantの書き換え\n",
    "start_key = \"\\nConstants\"\n",
    "end_key = \"-90.0000\\n\"\n",
    "\n",
    "for path in paths:             \n",
    "    with open(path,\"r\") as f:\n",
    "        data=f.read()\n",
    "        \n",
    "        start = data.find(start_key)\n",
    "        end = data.find(end_key) + len(end_key)\n",
    "        target = data[start:end]\n",
    "        # 文字列置換\n",
    "        data = data.replace(target, \"\\n\" + polymorph_info[\"cell constant\"])\n",
    "    with open(path, mode=\"w\", encoding=\"cp932\") as f:\n",
    "        f.write(data)\n",
    "        \n",
    "# ダミーを参照するパラメーターの書き換え\n",
    "for path in paths:             \n",
    "    with open(path,\"r\") as f:\n",
    "        data=f.read()\n",
    "        # 文字列置換するパラメーター\n",
    "        r5 = data[data.find(\"\\nr5\"):data.find(\"\\nr6\")]\n",
    "        a5 = data[data.find(\"\\na5\"):data.find(\"\\na6\")]\n",
    "        d5 = data[data.find(\"\\nd5\"):data.find(\"\\nd6\")]\n",
    "        a6 = data[data.find(\"\\na6\"):data.find(\"\\na7\")]\n",
    "        d6 = data[data.find(\"\\nd6\"):data.find(\"\\nd7\")]\n",
    "        d7 = data[data.find(\"\\nd7\"):data.find(\"\\nd8\")]\n",
    "#         置換\n",
    "        p_list = [r5, a5, d5, a6, d6, d7]\n",
    "        for p in p_list:\n",
    "            data = data.replace(p, \"\\n\" + p[1:6] + polymorph_info[p[1:3]])\n",
    "    with open(path, mode=\"w\", encoding=\"cp932\") as f:\n",
    "        f.write(data)\n"
   ]
  },
  {
   "cell_type": "code",
   "execution_count": 6,
   "id": "bed654f6-d54e-4cd3-a7ce-e9526d6a0283",
   "metadata": {},
   "outputs": [],
   "source": [
    "# 計算方法を書き換える\n",
    "# 方法が何行目かを判断し、書き換える\n",
    "\n",
    "\n"
   ]
  },
  {
   "cell_type": "code",
   "execution_count": 7,
   "id": "08260c53-8f14-4ec1-ab49-eb908b3edbc1",
   "metadata": {},
   "outputs": [],
   "source": [
    "# ファイル名を編集"
   ]
  },
  {
   "cell_type": "code",
   "execution_count": 31,
   "id": "d63d080d-545d-4cdc-9520-1f1b2a24cef3",
   "metadata": {},
   "outputs": [],
   "source": [
    "# cell constantの書き換え\n"
   ]
  },
  {
   "cell_type": "code",
   "execution_count": 36,
   "id": "113fe855-4f51-48e0-b53c-4b0fb121acaa",
   "metadata": {},
   "outputs": [],
   "source": [
    "# ダミーを参照するパラメーターの書き換え\n",
    "r5 = data[data.find(\"\\nr5\"):data.find(\"\\nr6\")]\n",
    "a5 = data[data.find(\"\\na5\"):data.find(\"\\na6\")]\n",
    "d5 = data[data.find(\"\\nd5\"):data.find(\"\\nd6\")]\n",
    "a6 = data[data.find(\"\\na6\"):data.find(\"\\na7\")]\n",
    "d6 = data[data.find(\"\\nd6\"):data.find(\"\\nd7\")]\n",
    "d7 = data[data.find(\"\\nd7\"):data.find(\"\\nd8\")]\n"
   ]
  },
  {
   "cell_type": "code",
   "execution_count": 40,
   "id": "c95afc59-8a6d-4ecd-979e-7ea2d35171d4",
   "metadata": {},
   "outputs": [
    {
     "data": {
      "text/plain": [
       "('\\nd7   36.3424',\n",
       " '\\na5   178.9371',\n",
       " '\\nr5   5.8161',\n",
       " '\\nd5   -31.0876',\n",
       " '\\na6   0.3869',\n",
       " '\\nd6   -96.8972')"
      ]
     },
     "execution_count": 40,
     "metadata": {},
     "output_type": "execute_result"
    }
   ],
   "source": [
    "d7, a5, r5, d5, a6, d6"
   ]
  },
  {
   "cell_type": "code",
   "execution_count": 41,
   "id": "123b6e56-88e9-499c-b8f6-a020fb1be88a",
   "metadata": {},
   "outputs": [
    {
     "data": {
      "text/plain": [
       "'81'"
      ]
     },
     "execution_count": 41,
     "metadata": {},
     "output_type": "execute_result"
    }
   ],
   "source": [
    "polymorph_info[\"a5\"]"
   ]
  },
  {
   "cell_type": "code",
   "execution_count": 42,
   "id": "fd3a7399-b0e5-45c9-ac76-c4111faece37",
   "metadata": {},
   "outputs": [],
   "source": [
    "p_list = [r5, a5, d5, a6, d6, d7]"
   ]
  },
  {
   "cell_type": "code",
   "execution_count": 43,
   "id": "9c8e4d65-9d2d-4a5d-9b26-da5c55e510ba",
   "metadata": {},
   "outputs": [
    {
     "data": {
      "text/plain": [
       "['\\nr5   5.8161',\n",
       " '\\na5   178.9371',\n",
       " '\\nd5   -31.0876',\n",
       " '\\na6   0.3869',\n",
       " '\\nd6   -96.8972',\n",
       " '\\nd7   36.3424']"
      ]
     },
     "execution_count": 43,
     "metadata": {},
     "output_type": "execute_result"
    }
   ],
   "source": [
    "p_list"
   ]
  },
  {
   "cell_type": "code",
   "execution_count": 49,
   "id": "c49d3e09-4300-49f1-b306-2bfa58b14752",
   "metadata": {},
   "outputs": [
    {
     "data": {
      "text/plain": [
       "'r5   '"
      ]
     },
     "execution_count": 49,
     "metadata": {},
     "output_type": "execute_result"
    }
   ],
   "source": [
    "p_list[0][1:6]"
   ]
  },
  {
   "cell_type": "code",
   "execution_count": 58,
   "id": "49b549cc-e476-43c6-a77d-a2268816f66a",
   "metadata": {},
   "outputs": [
    {
     "name": "stdout",
     "output_type": "stream",
     "text": [
      "r5\n",
      "9.6\n",
      "a5\n",
      "81\n",
      "d5\n",
      "-0.6\n",
      "a6\n",
      "70\n",
      "d6\n",
      "-76\n",
      "d7\n",
      "-50\n"
     ]
    }
   ],
   "source": [
    "for p in p_list:\n",
    "    print(p[1:3])\n",
    "    print(polymorph_info[p[1:3]])"
   ]
  },
  {
   "cell_type": "code",
   "execution_count": 18,
   "id": "e057b0da-2249-4429-b8e8-c32d0a388024",
   "metadata": {},
   "outputs": [
    {
     "data": {
      "text/plain": [
       "'Constants:\\nr2   6.0725\\nr3   11.5853\\nr4   14.4924\\na3   90.0000\\na4   90.0000\\nd4   -90.0000\\n'"
      ]
     },
     "execution_count": 18,
     "metadata": {},
     "output_type": "execute_result"
    }
   ],
   "source": [
    "polymorph_info[\"cell constant\"]"
   ]
  },
  {
   "cell_type": "code",
   "execution_count": 11,
   "id": "f11dd188-8583-4c48-b38d-6c8471964f8e",
   "metadata": {},
   "outputs": [
    {
     "data": {
      "text/plain": [
       "9"
      ]
     },
     "execution_count": 11,
     "metadata": {},
     "output_type": "execute_result"
    }
   ],
   "source": [
    "\\nr5   5.8161"
   ]
  },
  {
   "cell_type": "code",
   "execution_count": 16,
   "id": "12f95452-a653-4614-ad1c-4c9ba946727e",
   "metadata": {},
   "outputs": [
    {
     "data": {
      "text/plain": [
       "15688"
      ]
     },
     "execution_count": 16,
     "metadata": {},
     "output_type": "execute_result"
    }
   ],
   "source": [
    "end"
   ]
  },
  {
   "cell_type": "code",
   "execution_count": null,
   "id": "4a627ddd-dcc8-4e17-bbca-25c9cf9d988d",
   "metadata": {},
   "outputs": [],
   "source": []
  }
 ],
 "metadata": {
  "kernelspec": {
   "display_name": "Python 3",
   "language": "python",
   "name": "python3"
  },
  "language_info": {
   "codemirror_mode": {
    "name": "ipython",
    "version": 3
   },
   "file_extension": ".py",
   "mimetype": "text/x-python",
   "name": "python",
   "nbconvert_exporter": "python",
   "pygments_lexer": "ipython3",
   "version": "3.8.8"
  }
 },
 "nbformat": 4,
 "nbformat_minor": 5
}
