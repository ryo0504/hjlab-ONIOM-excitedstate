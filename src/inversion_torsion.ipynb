{
 "cells": [
  {
   "cell_type": "code",
   "execution_count": 5,
   "id": "e95bbe08-0304-4973-8d24-4b3e01be7d9e",
   "metadata": {},
   "outputs": [],
   "source": [
    "# Z-matrix形式のデータに対し、二面角の符号を反転させます。\n",
    "import glob\n",
    "import os\n",
    "import json"
   ]
  },
  {
   "cell_type": "code",
   "execution_count": 27,
   "id": "50f667a6-bad1-4125-b456-9afcaba0c698",
   "metadata": {},
   "outputs": [
    {
     "ename": "SyntaxError",
     "evalue": "invalid syntax (<ipython-input-27-9c1579458ae0>, line 31)",
     "output_type": "error",
     "traceback": [
      "\u001b[0;36m  File \u001b[0;32m\"<ipython-input-27-9c1579458ae0>\"\u001b[0;36m, line \u001b[0;32m31\u001b[0m\n\u001b[0;31m    f.close()\u001b[0m\n\u001b[0m    ^\u001b[0m\n\u001b[0;31mSyntaxError\u001b[0m\u001b[0;31m:\u001b[0m invalid syntax\n"
     ]
    }
   ],
   "source": [
    "data_dir = \"\"\n",
    "paths = [p for p in glob.glob(data_dir)]\n",
    "\n",
    "# result_dir = \"data/output/\" + \"/\".join(data_dir.split('/')[2:5]) + \"/\"\n",
    "\n",
    "# ダミーを参照しているdについては操作しない→d5, d6, d7はそのままにする\n",
    "# この部分を反転\n",
    "# nd8   -179.3668\\nd9   -0.5809\\nd10   -0.5579\\nd11   0.9613\\nd12   176.4438\\nd13   20.2222\\nd14   -176.0902\\nd15   -51.2261\\nd16   -171.7808\\nd17   -1.2794\\nd18   7.4285\\nd19   -2.5898\\nd20   -1.1164\\nd21   -0.1404\\nd22   0.9022\\nd23   -1.3428\\nd24   3.8810\\nd25   -10.5956\\nd26   -6.9668\\nd27   -2.6875\\nd28   -2.9460\\nd29   2.5538\\nd30\n",
    "\n",
    "start_key = \"\\nd8\"\n",
    "end_key = \"\\nConstants\"\n",
    "\n",
    "for path in paths:\n",
    "    result_dir = path.replace('data/input/', 'data/output/')                 \n",
    "    with open(path,\"r\") as f:\n",
    "        data=f.read()\n",
    "        # 文字列置換\n",
    "        start = data.find(start_key)\n",
    "        end = data.find(end_key)\n",
    "        target_list = data[start:end]\n",
    "        initial_d_list = []\n",
    "        for dn in target_list.split('\\n'):\n",
    "            d_angle = dn.split(' ')[-1]\n",
    "            initial_d_list.append(d_angle)\n",
    "#         空の要素を削除\n",
    "        initial_d_list = list(filter(None, initial_d_list))\n",
    "# initial_d_listを使ってtarget_listを検索し、マッチした部分を-1倍する\n",
    "        for initial_d in initial_d_list:\n",
    "            data = data.replace(initial_d, str(float(initial_d) * -1))\n",
    "        f.close()\n",
    "        # 同じファイル名で保存\n",
    "    with open(path, mode=\"w\", encoding=\"cp932\") as f:\n",
    "        f.write(data)\n",
    "        f.close()\n",
    "#         同じファイル名で保存\n",
    "#     with open(path, mode=\"w\", encoding=\"cp932\") as f:\n",
    "#         f.write(path.replace('data/input/', 'data/output/'))\n",
    "\n",
    "        \n",
    "# 周辺分子を貼り付ける。多形ごとのデータを別ファイルで保管し、importして使う。\n",
    "\n",
    "\n",
    "# 計算方法を書き換える\n",
    "\n",
    "\n",
    "# ファイル名を編集"
   ]
  },
  {
   "cell_type": "code",
   "execution_count": 32,
   "id": "04fe357f-41e8-4033-93ec-cd57868a0f39",
   "metadata": {},
   "outputs": [
    {
     "name": "stdout",
     "output_type": "stream",
     "text": [
      "['179.3668', '0.5809', '0.5579', '-0.9613', '-176.4438', '-20.2222', '176.0902', '51.2261', '171.7808', '1.2794', '-7.4285', '2.5898', '1.1164', '0.1404', '-0.9022', '1.3428', '-3.881', '10.5956', '6.9668', '2.6875', '2.946', '-2.5538', '-8.9251']\n"
     ]
    },
    {
     "data": {
      "text/plain": [
       "'\\nd8   179.3668\\nd9   0.5809\\nd10   0.5579\\nd11   -0.9613\\nd12   -176.4438\\nd13   -20.2222\\nd14   176.0902\\nd15   51.2261\\nd16   171.7808\\nd17   1.2794\\nd18   -7.4285\\nd19   2.5898\\nd20   1.1164\\nd21   0.1404\\nd22   -0.9022\\nd23   1.3428\\nd24   -3.881\\nd25   10.5956\\nd26   6.9668\\nd27   2.6875\\nd28   2.946\\nd29   -2.5538\\nd30   -8.9251'"
      ]
     },
     "execution_count": 32,
     "metadata": {},
     "output_type": "execute_result"
    }
   ],
   "source": [
    "print(initial_d_list)\n",
    "target_list"
   ]
  },
  {
   "cell_type": "code",
   "execution_count": 12,
   "id": "bed654f6-d54e-4cd3-a7ce-e9526d6a0283",
   "metadata": {},
   "outputs": [
    {
     "ename": "FileNotFoundError",
     "evalue": "[Errno 2] No such file or directory: 'data/SA_data.json'",
     "output_type": "error",
     "traceback": [
      "\u001b[0;31m---------------------------------------------------------------------------\u001b[0m",
      "\u001b[0;31mFileNotFoundError\u001b[0m                         Traceback (most recent call last)",
      "\u001b[0;32m<ipython-input-12-4113f7a8e3d1>\u001b[0m in \u001b[0;36m<module>\u001b[0;34m\u001b[0m\n\u001b[1;32m      1\u001b[0m \u001b[0;32mimport\u001b[0m \u001b[0mjson\u001b[0m\u001b[0;34m\u001b[0m\u001b[0;34m\u001b[0m\u001b[0m\n\u001b[0;32m----> 2\u001b[0;31m \u001b[0mjson_open\u001b[0m \u001b[0;34m=\u001b[0m \u001b[0mopen\u001b[0m\u001b[0;34m(\u001b[0m\u001b[0;34m'data/SA_data.json'\u001b[0m\u001b[0;34m,\u001b[0m \u001b[0;34m'r'\u001b[0m\u001b[0;34m)\u001b[0m\u001b[0;34m\u001b[0m\u001b[0;34m\u001b[0m\u001b[0m\n\u001b[0m\u001b[1;32m      3\u001b[0m \u001b[0mjson_load\u001b[0m \u001b[0;34m=\u001b[0m \u001b[0mjson\u001b[0m\u001b[0;34m.\u001b[0m\u001b[0mload\u001b[0m\u001b[0;34m(\u001b[0m\u001b[0mjson_open\u001b[0m\u001b[0;34m)\u001b[0m\u001b[0;34m\u001b[0m\u001b[0;34m\u001b[0m\u001b[0m\n\u001b[1;32m      4\u001b[0m \u001b[0;34m\u001b[0m\u001b[0m\n\u001b[1;32m      5\u001b[0m \u001b[0mprint\u001b[0m\u001b[0;34m(\u001b[0m\u001b[0mjson_load\u001b[0m\u001b[0;34m)\u001b[0m\u001b[0;34m\u001b[0m\u001b[0;34m\u001b[0m\u001b[0m\n",
      "\u001b[0;31mFileNotFoundError\u001b[0m: [Errno 2] No such file or directory: 'data/SA_data.json'"
     ]
    }
   ],
   "source": [
    "import json\n",
    "json_open = open('data/SA_data.json', 'r')\n",
    "json_load = json.load(json_open)\n",
    "\n",
    "print(json_load)"
   ]
  },
  {
   "cell_type": "code",
   "execution_count": 33,
   "id": "08260c53-8f14-4ec1-ab49-eb908b3edbc1",
   "metadata": {},
   "outputs": [
    {
     "data": {
      "text/plain": [
       "'%chk=default\\n%mem=2GB\\n%NProcShared=6\\n\\n#N HF/3-21G Opt=Z-matrix Freq=(HPMode,Raman) \\n\\ncomments\\n\\n0 1\\nX\\nX   1   r2\\nX   1   r3   2   a3\\nX   1   r4   2   a4   3   d4\\nH   1   r5   2   a5   3   d5\\nC   5   r6   1   a6   2   d6\\nC   6   r7   5   a7   1   d7\\nC   7   r8   6   a8   5   d8\\nC   8   r9   7   a9   6   d9\\nC   9   r10   8   a10   7   d10\\nC   10   r11   9   a11   8   d11\\nN   9   r12   8   a12   7   d12\\nC   12   r13   9   a13   8   d13\\nC   13   r14   12   a14   9   d14\\nC   14   r15   13   a15   12   d15\\nC   15   r16   14   a16   13   d16\\nC   16   r17   15   a17   14   d17\\nC   17   r18   16   a18   15   d18\\nC   18   r19   17   a19   16   d19\\nH   11   r20   6   a20   5   d20\\nH   10   r21   11   a21   20   d21\\nH   7   r22   6   a22   5   d22\\nH   8   r23   7   a23   22   d23\\nH   12   r24   9   a24   10   d24\\nH   13   r25   12   a25   9   d25\\nH   19   r26   14   a26   13   d26\\nH   18   r27   19   a27   26   d27\\nH   17   r28   18   a28   27   d28\\nH   16   r29   17   a29   28   d29\\nO   15   r30   14   a30   13   d30\\n\\nr5   5.8161\\nr6   1.0771\\nr7   1.3852\\nr8   1.3877\\nr9   1.3912\\nr10   1.3902\\nr11   1.3781\\nr12   1.4016\\nr13   1.3242\\nr14   1.3841\\nr15   1.4735\\nr16   1.4474\\nr17   1.3532\\nr18   1.4255\\nr19   1.3545\\nr20   1.0768\\nr21   1.0779\\nr22   1.0771\\nr23   1.0780\\nr24   1.0070\\nr25   1.0770\\nr26   1.0805\\nr27   1.0757\\nr28   1.0791\\nr29   1.0771\\nr30   1.2303\\na5   178.9371\\na6   0.3869\\na7   120.5215\\na8   121.3395\\na9   118.8897\\na10   119.7502\\na11   120.7153\\na12   125.2025\\na13   131.8334\\na14   122.6665\\na15   119.2169\\na16   115.2599\\na17   121.4728\\na18   121.8352\\na19   119.4881\\na20   120.6831\\na21   120.3822\\na22   119.3667\\na23   119.2449\\na24   114.4293\\na25   116.0243\\na26   118.5734\\na27   121.0197\\na28   118.8464\\na29   122.0187\\na30   121.7434\\nd5   -31.0876\\nd6   -96.8972\\nd7   36.3424\\nd8   -179.3668\\nd9   -0.5809\\nd10   -0.5579\\nd11   0.9613\\nd12   176.4438\\nd13   20.2222\\nd14   -176.0902\\nd15   -51.2261\\nd16   -171.7808\\nd17   -1.2794\\nd18   7.4285\\nd19   -2.5898\\nd20   -1.1164\\nd21   -0.1404\\nd22   0.9022\\nd23   -1.3428\\nd24   3.881\\nd25   -10.5956\\nd26   -6.9668\\nd27   -2.6875\\nd28   -2.946\\nd29   2.5538\\nd30   8.9251\\nConstants:\\nr2   6.0725\\nr3   11.5853\\nr4   14.4924\\na3   90.0000\\na4   90.0000\\nd4   -90.0000\\n\\n\\n'"
      ]
     },
     "execution_count": 33,
     "metadata": {},
     "output_type": "execute_result"
    }
   ],
   "source": [
    "data"
   ]
  },
  {
   "cell_type": "code",
   "execution_count": null,
   "id": "d63d080d-545d-4cdc-9520-1f1b2a24cef3",
   "metadata": {},
   "outputs": [],
   "source": []
  },
  {
   "cell_type": "code",
   "execution_count": null,
   "id": "113fe855-4f51-48e0-b53c-4b0fb121acaa",
   "metadata": {},
   "outputs": [],
   "source": []
  },
  {
   "cell_type": "code",
   "execution_count": null,
   "id": "c95afc59-8a6d-4ecd-979e-7ea2d35171d4",
   "metadata": {},
   "outputs": [],
   "source": []
  },
  {
   "cell_type": "code",
   "execution_count": null,
   "id": "123b6e56-88e9-499c-b8f6-a020fb1be88a",
   "metadata": {},
   "outputs": [],
   "source": []
  },
  {
   "cell_type": "code",
   "execution_count": null,
   "id": "fd3a7399-b0e5-45c9-ac76-c4111faece37",
   "metadata": {},
   "outputs": [],
   "source": []
  },
  {
   "cell_type": "code",
   "execution_count": null,
   "id": "9c8e4d65-9d2d-4a5d-9b26-da5c55e510ba",
   "metadata": {},
   "outputs": [],
   "source": []
  },
  {
   "cell_type": "code",
   "execution_count": null,
   "id": "c49d3e09-4300-49f1-b306-2bfa58b14752",
   "metadata": {},
   "outputs": [],
   "source": []
  }
 ],
 "metadata": {
  "kernelspec": {
   "display_name": "Python 3",
   "language": "python",
   "name": "python3"
  },
  "language_info": {
   "codemirror_mode": {
    "name": "ipython",
    "version": 3
   },
   "file_extension": ".py",
   "mimetype": "text/x-python",
   "name": "python",
   "nbconvert_exporter": "python",
   "pygments_lexer": "ipython3",
   "version": "3.8.8"
  }
 },
 "nbformat": 4,
 "nbformat_minor": 5
}
