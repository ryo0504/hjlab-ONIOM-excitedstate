{
 "cells": [
  {
   "cell_type": "code",
   "execution_count": 1,
   "id": "e95bbe08-0304-4973-8d24-4b3e01be7d9e",
   "metadata": {},
   "outputs": [],
   "source": [
    "# Z-matrix形式のデータに対し、二面角の符号を反転させます。\n",
    "import glob\n",
    "import os\n",
    "import json"
   ]
  },
  {
   "cell_type": "code",
   "execution_count": 12,
   "id": "50f667a6-bad1-4125-b456-9afcaba0c698",
   "metadata": {},
   "outputs": [],
   "source": [
    "data_dir = \"data/input/位置決め in hjlab/alpha2/50/test/Qchem-SF-TD-bhhlyp-631gd+50_zmat.gjf\"\n",
    "paths = [p for p in glob.glob(data_dir)]\n",
    "\n",
    "# ダミーを参照しているdについては操作しない→d5, d6, d7はそのままにする\n",
    "\n",
    "start_key = \"\\nd8\"\n",
    "end_key = \"\\nConstants\"\n",
    "\n",
    "for path in paths:             \n",
    "    with open(path,\"r\") as f:\n",
    "        data=f.read()\n",
    "        # 文字列置換\n",
    "        start = data.find(start_key)\n",
    "        end = data.find(end_key)\n",
    "        target_list = data[start:end]\n",
    "        initial_d_list = []\n",
    "        for dn in target_list.split('\\n'):\n",
    "            d_angle = dn.split(' ')[-1]\n",
    "            initial_d_list.append(d_angle)\n",
    "        # 空の要素を削除\n",
    "        initial_d_list = list(filter(None, initial_d_list))\n",
    "        # initial_d_listを使ってtarget_listを検索し、マッチした部分を-1倍する\n",
    "        for initial_d in initial_d_list:\n",
    "            data = data.replace(initial_d, str(float(initial_d) * -1))\n",
    "    # 同じファイル名で保存\n",
    "    with open(path, mode=\"w\", encoding=\"cp932\") as f:\n",
    "        f.write(data)"
   ]
  },
  {
   "cell_type": "code",
   "execution_count": 28,
   "id": "04fe357f-41e8-4033-93ec-cd57868a0f39",
   "metadata": {},
   "outputs": [],
   "source": [
    "# directionは周辺分子を貼り付けるだけならどちらでもいい\n",
    "direction = \"+\"\n",
    "polymorph = \"alpha2\"\n",
    "\n",
    "# 周辺分子を貼り付ける。多形ごとのデータを別ファイルで保管し、importして使う。\n",
    "json_open = open(\"data/SA_data (\" + direction + \").json\", \"r\")\n",
    "json_load = json.load(json_open)\n",
    "polymorph_info = json_load[polymorph]\n",
    "\n",
    "# 中心分子のデータの後に書き足す\n",
    "data_dir = \"data/input/位置決め in hjlab/alpha2/50/test/Qchem-SF-TD-bhhlyp-631gd+50_zmat.gjf\"\n",
    "paths = [p for p in glob.glob(data_dir)]\n",
    "insert_key = \"d30\\n\"\n",
    "\n",
    "for path in paths:             \n",
    "    with open(path,\"r\") as f:\n",
    "        data=f.read()\n",
    "        # 文字列置換\n",
    "        data = data.replace(insert_key, start_key + polymorph_info[\"surrounding molecule\"])\n",
    "    with open(path, mode=\"w\", encoding=\"cp932\") as f:\n",
    "        f.write(data)"
   ]
  },
  {
   "cell_type": "code",
   "execution_count": 6,
   "id": "bed654f6-d54e-4cd3-a7ce-e9526d6a0283",
   "metadata": {},
   "outputs": [],
   "source": [
    "# 計算方法を書き換える\n",
    "# 方法が何行目かを判断し、書き換える"
   ]
  },
  {
   "cell_type": "code",
   "execution_count": 7,
   "id": "08260c53-8f14-4ec1-ab49-eb908b3edbc1",
   "metadata": {},
   "outputs": [],
   "source": [
    "# ファイル名を編集"
   ]
  },
  {
   "cell_type": "code",
   "execution_count": 18,
   "id": "d63d080d-545d-4cdc-9520-1f1b2a24cef3",
   "metadata": {},
   "outputs": [
    {
     "data": {
      "text/plain": [
       "1017"
      ]
     },
     "execution_count": 18,
     "metadata": {},
     "output_type": "execute_result"
    }
   ],
   "source": [
    "# cell constantの書き換え"
   ]
  },
  {
   "cell_type": "code",
   "execution_count": 19,
   "id": "113fe855-4f51-48e0-b53c-4b0fb121acaa",
   "metadata": {},
   "outputs": [
    {
     "data": {
      "text/plain": [
       "1021"
      ]
     },
     "execution_count": 19,
     "metadata": {},
     "output_type": "execute_result"
    }
   ],
   "source": [
    "# ダミーを参照するパラメーターの書き換え"
   ]
  },
  {
   "cell_type": "code",
   "execution_count": null,
   "id": "c95afc59-8a6d-4ecd-979e-7ea2d35171d4",
   "metadata": {},
   "outputs": [],
   "source": []
  },
  {
   "cell_type": "code",
   "execution_count": null,
   "id": "123b6e56-88e9-499c-b8f6-a020fb1be88a",
   "metadata": {},
   "outputs": [],
   "source": []
  },
  {
   "cell_type": "code",
   "execution_count": 4,
   "id": "fd3a7399-b0e5-45c9-ac76-c4111faece37",
   "metadata": {},
   "outputs": [],
   "source": []
  },
  {
   "cell_type": "code",
   "execution_count": null,
   "id": "9c8e4d65-9d2d-4a5d-9b26-da5c55e510ba",
   "metadata": {},
   "outputs": [],
   "source": []
  },
  {
   "cell_type": "code",
   "execution_count": null,
   "id": "c49d3e09-4300-49f1-b306-2bfa58b14752",
   "metadata": {},
   "outputs": [],
   "source": []
  }
 ],
 "metadata": {
  "kernelspec": {
   "display_name": "Python 3",
   "language": "python",
   "name": "python3"
  },
  "language_info": {
   "codemirror_mode": {
    "name": "ipython",
    "version": 3
   },
   "file_extension": ".py",
   "mimetype": "text/x-python",
   "name": "python",
   "nbconvert_exporter": "python",
   "pygments_lexer": "ipython3",
   "version": "3.8.8"
  }
 },
 "nbformat": 4,
 "nbformat_minor": 5
}
